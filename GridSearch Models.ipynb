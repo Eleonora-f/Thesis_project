{
 "cells": [
  {
   "cell_type": "code",
   "execution_count": 1,
   "id": "9b4f678e",
   "metadata": {},
   "outputs": [
    {
     "name": "stderr",
     "output_type": "stream",
     "text": [
      "C:\\Users\\elefa\\anaconda3\\lib\\site-packages\\xgboost\\compat.py:93: FutureWarning: pandas.Int64Index is deprecated and will be removed from pandas in a future version. Use pandas.Index with the appropriate dtype instead.\n",
      "  from pandas import MultiIndex, Int64Index\n"
     ]
    }
   ],
   "source": [
    "import pandas as pd\n",
    "import numpy as np\n",
    "from sklearn.ensemble import RandomForestClassifier\n",
    "from xgboost import XGBClassifier\n",
    "from sklearn.ensemble import GradientBoostingClassifier\n",
    "from sklearn.neural_network import MLPClassifier\n",
    "from sklearn.model_selection import GridSearchCV\n",
    "from sklearn.model_selection import StratifiedKFold\n",
    "from sklearn.metrics import f1_score\n",
    "from sklearn.metrics import make_scorer\n",
    "from itertools import product\n",
    "\n",
    "from sklearn.datasets import make_classification\n",
    "from sklearn.model_selection import train_test_split\n",
    "from sklearn.preprocessing import LabelEncoder\n"
   ]
  },
  {
   "cell_type": "code",
   "execution_count": 2,
   "id": "55141d28",
   "metadata": {},
   "outputs": [],
   "source": [
    "dataset = pd.read_csv('dataset.csv', index_col=False)\n",
    "not_features = [\"Path\", \"Emotional_intensity\", \"Statement\", \"Gender\"]\n",
    "features_data = dataset.drop(columns=not_features)\n",
    "\n",
    "features_data.dropna(inplace=True)\n",
    "actor_list = [1, 12, 7, 24]\n",
    "test_set = features_data.loc[features_data['Actor'].isin(actor_list)]\n",
    "training_set = features_data.drop(test_set.index)"
   ]
  },
  {
   "cell_type": "code",
   "execution_count": 3,
   "id": "36f5955b",
   "metadata": {},
   "outputs": [
    {
     "name": "stdout",
     "output_type": "stream",
     "text": [
      "[ 2  3  4  5  6  8  9 10 11 13 14 15 16 17 18 19 20 21 22 23]\n"
     ]
    }
   ],
   "source": [
    "training_actors = training_set['Actor']\n",
    "training_actors = training_actors.unique()\n",
    "\n",
    "print(training_actors)\n",
    "\n",
    "training_actors_m = []\n",
    "training_actors_f = []\n",
    "for actor in training_actors:\n",
    "    if (actor%2 == 0):\n",
    "        training_actors_f.append(actor)\n",
    "    else:\n",
    "        training_actors_m.append(actor)"
   ]
  },
  {
   "cell_type": "code",
   "execution_count": 4,
   "id": "a0c73ec5",
   "metadata": {},
   "outputs": [],
   "source": [
    " # Define the random forest model\n",
    "model1 = RandomForestClassifier(max_samples=0.9, n_estimators=200, max_depth=None, n_jobs=-1, random_state=42)\n",
    "model2 = XGBClassifier(objective='binary:logistic', reg_alpha=0.5, reg_lambda=1.0, n_estimators=200, random_state=42)\n",
    "model3 = GradientBoostingClassifier(n_estimators=200, max_features=2, max_depth=None, random_state=42, subsample=0.9)\n",
    "model4 = MLPClassifier(random_state=42, max_iter=300)\n",
    " # Define the grid\n",
    "param_grid = {\n",
    "    \"max_samples\": [0.3, 0.6, 0.7, 0.9, 0.11],\n",
    "    \"n_estimators\": [200, 400, 600, 700, 800]\n",
    "}\n",
    "param_grid2 = {\n",
    "    \"n_estimators\": [200, 400, 600],\n",
    "    \"reg_alpha\": [0.5, 1, 1.5],\n",
    "    \"reg_lambda\": [0.5, 1, 1.5]\n",
    "}\n",
    "skf = StratifiedKFold(n_splits=5, shuffle=True, random_state=42)"
   ]
  },
  {
   "cell_type": "code",
   "execution_count": 5,
   "id": "e761f994",
   "metadata": {
    "scrolled": false
   },
   "outputs": [],
   "source": [
    "\n",
    "\n",
    "\n",
    "def GridSearch(model, param_grid):\n",
    "    best_score = 0.0\n",
    "    best_params = {}\n",
    "\n",
    "    param_names = param_grid.keys()\n",
    "    param_values = param_grid.values()\n",
    "    param_combinations = product(*param_values)\n",
    "\n",
    "    for params in param_combinations:\n",
    "        param_combination = dict(zip(param_names, params))\n",
    "\n",
    "        model_accuracy = []\n",
    "        model_f1 = []\n",
    "\n",
    "        for i in range(10):\n",
    "            m = training_actors_m[i]\n",
    "            f = training_actors_f[i]\n",
    "            cross_test_set = training_set.loc[training_set['Actor'].isin([m, f])]\n",
    "            cross_training_set = training_set.drop(cross_test_set.index)\n",
    "\n",
    "            y_train = cross_training_set[\"Emotions\"]\n",
    "            X2d_train = cross_training_set[dataset.columns[6:]]\n",
    "            y_test = cross_test_set[\"Emotions\"]\n",
    "            X2d_test = cross_test_set[dataset.columns[6:]]\n",
    "\n",
    "            # Create a new instance of the model for each parameter combination\n",
    "            model_instance = model.__class__(**param_combination)\n",
    "\n",
    "            # Fit the classifier\n",
    "            model_instance.fit(X2d_train, y_train)\n",
    "\n",
    "            # Compute the score and record it\n",
    "            model_accuracy.append(model_instance.score(X2d_test, y_test))\n",
    "            y_pred = model_instance.predict(X2d_test)\n",
    "            model_f1.append(f1_score(y_test, y_pred, average=\"macro\"))\n",
    "\n",
    "        avg_accuracy = sum(model_accuracy) / len(model_accuracy)\n",
    "        avg_f1 = sum(model_f1) / len(model_f1)\n",
    "\n",
    "        if avg_accuracy > best_score:\n",
    "            best_score = avg_accuracy\n",
    "            best_params = param_combination\n",
    "\n",
    "        print(f\"Parameters: {param_combination}\")\n",
    "        print(f\"Average Accuracy: {avg_accuracy}\")\n",
    "        print(f\"Average F1 Score: {avg_f1}\")\n",
    "        print(\"--------------------\")\n",
    "\n",
    "    print(\"Best parameters:\")\n",
    "    print(best_params)\n",
    "    print(f\"Best Accuracy: {best_score}\")\n"
   ]
  },
  {
   "cell_type": "code",
   "execution_count": null,
   "id": "b192fb53",
   "metadata": {},
   "outputs": [
    {
     "name": "stdout",
     "output_type": "stream",
     "text": [
      "Parameters: {'max_samples': 0.3, 'n_estimators': 200}\n",
      "Average Accuracy: 0.3725\n",
      "Average F1 Score: 0.32949839240317413\n",
      "--------------------\n",
      "Parameters: {'max_samples': 0.3, 'n_estimators': 400}\n",
      "Average Accuracy: 0.3883333333333333\n",
      "Average F1 Score: 0.3498511073749596\n",
      "--------------------\n",
      "Parameters: {'max_samples': 0.3, 'n_estimators': 600}\n",
      "Average Accuracy: 0.38583333333333336\n",
      "Average F1 Score: 0.34128830238347996\n",
      "--------------------\n",
      "Parameters: {'max_samples': 0.3, 'n_estimators': 700}\n",
      "Average Accuracy: 0.38416666666666666\n",
      "Average F1 Score: 0.34516357946580845\n",
      "--------------------\n",
      "Parameters: {'max_samples': 0.3, 'n_estimators': 800}\n",
      "Average Accuracy: 0.38249999999999995\n",
      "Average F1 Score: 0.3420915590909796\n",
      "--------------------\n",
      "Parameters: {'max_samples': 0.6, 'n_estimators': 200}\n",
      "Average Accuracy: 0.38166666666666665\n",
      "Average F1 Score: 0.3489109583710061\n",
      "--------------------\n",
      "Parameters: {'max_samples': 0.6, 'n_estimators': 400}\n",
      "Average Accuracy: 0.395\n",
      "Average F1 Score: 0.35298397808533116\n",
      "--------------------\n",
      "Parameters: {'max_samples': 0.6, 'n_estimators': 600}\n",
      "Average Accuracy: 0.3933333333333333\n",
      "Average F1 Score: 0.3531866463845369\n",
      "--------------------\n",
      "Parameters: {'max_samples': 0.6, 'n_estimators': 700}\n",
      "Average Accuracy: 0.39916666666666667\n",
      "Average F1 Score: 0.366435947921447\n",
      "--------------------\n",
      "Parameters: {'max_samples': 0.6, 'n_estimators': 800}\n",
      "Average Accuracy: 0.39249999999999996\n",
      "Average F1 Score: 0.3554292441370185\n",
      "--------------------\n",
      "Parameters: {'max_samples': 0.7, 'n_estimators': 200}\n",
      "Average Accuracy: 0.38\n",
      "Average F1 Score: 0.338870030981213\n",
      "--------------------\n",
      "Parameters: {'max_samples': 0.7, 'n_estimators': 400}\n",
      "Average Accuracy: 0.3958333333333333\n",
      "Average F1 Score: 0.35959738598946617\n",
      "--------------------\n",
      "Parameters: {'max_samples': 0.7, 'n_estimators': 600}\n",
      "Average Accuracy: 0.38999999999999996\n",
      "Average F1 Score: 0.3508240626634741\n",
      "--------------------\n",
      "Parameters: {'max_samples': 0.7, 'n_estimators': 700}\n",
      "Average Accuracy: 0.3983333333333333\n",
      "Average F1 Score: 0.3611908566377802\n",
      "--------------------\n",
      "Parameters: {'max_samples': 0.7, 'n_estimators': 800}\n",
      "Average Accuracy: 0.39749999999999996\n",
      "Average F1 Score: 0.3642719674886249\n",
      "--------------------\n",
      "Parameters: {'max_samples': 0.9, 'n_estimators': 200}\n",
      "Average Accuracy: 0.38999999999999996\n",
      "Average F1 Score: 0.35238036497669223\n",
      "--------------------\n",
      "Parameters: {'max_samples': 0.9, 'n_estimators': 400}\n",
      "Average Accuracy: 0.3833333333333333\n",
      "Average F1 Score: 0.345991738863498\n",
      "--------------------\n",
      "Parameters: {'max_samples': 0.9, 'n_estimators': 600}\n",
      "Average Accuracy: 0.3983333333333334\n",
      "Average F1 Score: 0.360899486836782\n",
      "--------------------\n",
      "Parameters: {'max_samples': 0.9, 'n_estimators': 700}\n",
      "Average Accuracy: 0.40083333333333326\n",
      "Average F1 Score: 0.3670503167079845\n",
      "--------------------\n",
      "Parameters: {'max_samples': 0.9, 'n_estimators': 800}\n",
      "Average Accuracy: 0.3858333333333333\n",
      "Average F1 Score: 0.3462802135640429\n",
      "--------------------\n",
      "Parameters: {'max_samples': 0.11, 'n_estimators': 200}\n",
      "Average Accuracy: 0.3683333333333334\n",
      "Average F1 Score: 0.3254494534364136\n",
      "--------------------\n",
      "Parameters: {'max_samples': 0.11, 'n_estimators': 400}\n",
      "Average Accuracy: 0.36416666666666664\n",
      "Average F1 Score: 0.31943033164144036\n",
      "--------------------\n",
      "Parameters: {'max_samples': 0.11, 'n_estimators': 600}\n",
      "Average Accuracy: 0.35833333333333334\n",
      "Average F1 Score: 0.31468042846735206\n",
      "--------------------\n"
     ]
    }
   ],
   "source": [
    "#richiamo la funzione per stampare le migliori combinazioni\n",
    "GridSearch(model1, param_grid)"
   ]
  },
  {
   "cell_type": "code",
   "execution_count": null,
   "id": "f728afcc",
   "metadata": {},
   "outputs": [],
   "source": [
    "GridSearch(model2, param_grid2)"
   ]
  },
  {
   "cell_type": "code",
   "execution_count": null,
   "id": "788c5992",
   "metadata": {},
   "outputs": [],
   "source": [
    "GridSearch(model3, param_grid)"
   ]
  }
 ],
 "metadata": {
  "kernelspec": {
   "display_name": "Python 3 (ipykernel)",
   "language": "python",
   "name": "python3"
  },
  "language_info": {
   "codemirror_mode": {
    "name": "ipython",
    "version": 3
   },
   "file_extension": ".py",
   "mimetype": "text/x-python",
   "name": "python",
   "nbconvert_exporter": "python",
   "pygments_lexer": "ipython3",
   "version": "3.9.16"
  }
 },
 "nbformat": 4,
 "nbformat_minor": 5
}
