{
 "cells": [
  {
   "cell_type": "code",
   "execution_count": 1,
   "id": "3f0fb005",
   "metadata": {},
   "outputs": [],
   "source": [
    "import pandas as pd\n",
    "import numpy as np\n",
    "from sklearn.ensemble import RandomForestClassifier\n",
    "from sklearn.model_selection import GridSearchCV\n",
    "from sklearn.model_selection import StratifiedKFold\n",
    "from sklearn.metrics import f1_score"
   ]
  },
  {
   "cell_type": "code",
   "execution_count": 2,
   "id": "cf621cab",
   "metadata": {},
   "outputs": [],
   "source": [
    "accuracy = []\n",
    "f1 = []"
   ]
  },
  {
   "cell_type": "code",
   "execution_count": 3,
   "id": "dd8a9d8a",
   "metadata": {},
   "outputs": [],
   "source": [
    "grid = {\n",
    "    \"max_samples\": [0.3, 0.6, 0.9],\n",
    "    \"n_estimators\": [200, 400, 600]\n",
    "}"
   ]
  },
  {
   "cell_type": "code",
   "execution_count": 4,
   "id": "25dddbb0",
   "metadata": {},
   "outputs": [],
   "source": [
    "def gridSearchRandomForest(model, grid):\n",
    "    \n",
    "    # inizializza l'accuratezza migliore e i migliori iperparametri\n",
    "    best_accuracy = 0.0\n",
    "    best_params = {}\n",
    "\n",
    "    # esegue il loop sulla griglia di iperparametri\n",
    "    for max_samples in grid[\"max_samples\"]:\n",
    "        for n_estimators in grid[\"n_estimators\"]:\n",
    "            \n",
    "            # crea un nuovo modello con i parametri correnti\n",
    "            model = RandomForestClassifier(max_samples=max_samples, n_estimators=n_estimators)\n",
    "            # esegue la cross-validation con il modello corrente\n",
    "            cross_validation(model)\n",
    "            # calcola l'accuratezza media sulle 10 iterazioni\n",
    "            accuracy_mean = np.mean(accuracy[-1])\n",
    "            # confronta l'accuratezza corrente con quella migliore finora\n",
    "            if accuracy_mean > best_accuracy:\n",
    "                # se l'accuratezza corrente è migliore, aggiorna i migliori iperparametri\n",
    "                best_accuracy = accuracy_mean\n",
    "                best_params = {\"max_samples\": max_samples, \"n_estimators\": n_estimators}\n",
    "\n",
    "    print(\"Migliori iperparametri:\", best_params)\n",
    "    print(\"Accuratezza migliore:\", best_accuracy)\n",
    "    #In questo caso, la funzione cross_validation viene chiamata all'interno dei loop per calcolare\n",
    "    #l'accuratezza del modello su ogni combinazione di iperparametri. La lista accuracy viene utilizzata\n",
    "    #per salvare l'accuratezza su ogni iterazione, e alla fine del loop, l'accuratezza media viene calcolata\n",
    "    #come la media delle accuratezze su tutte le iterazioni. \n",
    "    \n",
    "    model_accuracy = []\n",
    "    model_f1 = []\n",
    "    for i in range(10):\n",
    "        m = training_actors_m[i]\n",
    "        f = training_actors_f[i]\n",
    "\n",
    "        cross_test_set = training_set.loc[training_set['Actor'].isin([m, f])]\n",
    "        cross_training_set = training_set.drop(cross_test_set.index)\n",
    "\n",
    "        y_train = cross_training_set[\"Emotions\"]\n",
    "        X2d_train = cross_training_set[dataset.columns[6:]]\n",
    "        y_test = cross_test_set[\"Emotions\"]\n",
    "        X2d_test = cross_test_set[dataset.columns[6:]]\n",
    "\n",
    "        # fit the classifier\n",
    "        model.fit(X2d_train, y_train)\n",
    "        # compute the score and record it\n",
    "        model_accuracy.append(model.score(X2d_test, y_test))\n",
    "        y_pred = model.predict(X2d_test)\n",
    "        model_f1.append(f1_score(y_test, y_pred, average=\"macro\"))\n",
    "        \n",
    "    accuracy.append(model_accuracy)\n",
    "    f1.append(model_f1)"
   ]
  },
  {
   "cell_type": "code",
   "execution_count": 5,
   "id": "c119a88f",
   "metadata": {},
   "outputs": [],
   "source": [
    "dataset = pd.read_csv('dataset.csv', index_col=False)\n",
    "not_features = [\"Path\", \"Emotional_intensity\", \"Statement\", \"Gender\"]\n",
    "features_data = dataset.drop(columns=not_features)\n",
    "features_data\n",
    "actor_list = [1, 12, 7, 24]\n",
    "test_set = features_data.loc[features_data['Actor'].isin(actor_list)]\n",
    "training_set = features_data.drop(test_set.index)"
   ]
  },
  {
   "cell_type": "code",
   "execution_count": 6,
   "id": "2d115f96",
   "metadata": {},
   "outputs": [],
   "source": [
    "y_train = training_set[\"Emotions\"]\n",
    "X2d_train = training_set[dataset.columns[6:]]\n",
    "y_test = test_set[\"Emotions\"]\n",
    "X2d_test = test_set[dataset.columns[6:]]\n"
   ]
  },
  {
   "cell_type": "code",
   "execution_count": 7,
   "id": "aa69be56",
   "metadata": {},
   "outputs": [],
   "source": [
    "rfm = RandomForestClassifier(max_samples=0.9, n_estimators=200, max_depth=None, n_jobs=-1, random_state=42)"
   ]
  },
  {
   "cell_type": "code",
   "execution_count": 8,
   "id": "d68eafe1",
   "metadata": {},
   "outputs": [],
   "source": [
    "from sklearn.model_selection import GridSearchCV\n",
    "from sklearn.metrics import make_scorer"
   ]
  },
  {
   "cell_type": "code",
   "execution_count": 9,
   "id": "72a497e3",
   "metadata": {},
   "outputs": [],
   "source": [
    "skf = StratifiedKFold(5, shuffle=True, random_state=42)"
   ]
  },
  {
   "cell_type": "code",
   "execution_count": 10,
   "id": "134a267d",
   "metadata": {},
   "outputs": [],
   "source": [
    "gs = GridSearchCV(rfm, grid, cv=skf, scoring=make_scorer(f1_score, average=\"macro\"))"
   ]
  },
  {
   "cell_type": "code",
   "execution_count": 11,
   "id": "3616515c",
   "metadata": {},
   "outputs": [],
   "source": [
    "gs.fit(X2d_train, y_train);"
   ]
  },
  {
   "cell_type": "code",
   "execution_count": 12,
   "id": "760ea0bf",
   "metadata": {},
   "outputs": [
    {
     "data": {
      "text/plain": [
       "{'max_samples': 0.9, 'n_estimators': 400}"
      ]
     },
     "execution_count": 12,
     "metadata": {},
     "output_type": "execute_result"
    }
   ],
   "source": [
    "gs.best_params_"
   ]
  },
  {
   "cell_type": "code",
   "execution_count": 13,
   "id": "b46afbe9",
   "metadata": {},
   "outputs": [],
   "source": [
    "model = gs.best_estimator_"
   ]
  },
  {
   "cell_type": "code",
   "execution_count": 44,
   "id": "5d58aeca",
   "metadata": {},
   "outputs": [
    {
     "data": {
      "text/plain": [
       "0.55"
      ]
     },
     "execution_count": 44,
     "metadata": {},
     "output_type": "execute_result"
    }
   ],
   "source": [
    "model.score(X2d_test, y_test)"
   ]
  },
  {
   "cell_type": "code",
   "execution_count": 45,
   "id": "4ff498a4",
   "metadata": {},
   "outputs": [],
   "source": [
    "y_pred = model.predict(X2d_test)"
   ]
  },
  {
   "cell_type": "code",
   "execution_count": 46,
   "id": "8426093b",
   "metadata": {},
   "outputs": [
    {
     "data": {
      "text/plain": [
       "array([0.71428571, 0.73417722, 0.53164557, 0.5       , 0.4516129 ,\n",
       "       0.11111111, 0.36363636, 0.71698113])"
      ]
     },
     "execution_count": 46,
     "metadata": {},
     "output_type": "execute_result"
    }
   ],
   "source": [
    "f1_score(y_test, y_pred, average=None)"
   ]
  },
  {
   "cell_type": "code",
   "execution_count": 47,
   "id": "186440d3",
   "metadata": {},
   "outputs": [
    {
     "data": {
      "text/plain": [
       "0.5154312511430743"
      ]
     },
     "execution_count": 47,
     "metadata": {},
     "output_type": "execute_result"
    }
   ],
   "source": [
    "f1_score(y_test, y_pred, average=\"macro\")"
   ]
  },
  {
   "cell_type": "code",
   "execution_count": 48,
   "id": "1b284aaa",
   "metadata": {},
   "outputs": [],
   "source": [
    "from sklearn.metrics import classification_report"
   ]
  },
  {
   "cell_type": "code",
   "execution_count": 49,
   "id": "d368683b",
   "metadata": {},
   "outputs": [
    {
     "name": "stdout",
     "output_type": "stream",
     "text": [
      "              precision    recall  f1-score   support\n",
      "\n",
      "       angry       0.83      0.62      0.71        32\n",
      "        calm       0.62      0.91      0.73        32\n",
      "     disgust       0.45      0.66      0.53        32\n",
      "     fearful       0.58      0.44      0.50        32\n",
      "       happy       0.47      0.44      0.45        32\n",
      "     neutral       0.50      0.06      0.11        16\n",
      "         sad       0.31      0.44      0.36        32\n",
      "   surprised       0.90      0.59      0.72        32\n",
      "\n",
      "    accuracy                           0.55       240\n",
      "   macro avg       0.58      0.52      0.52       240\n",
      "weighted avg       0.59      0.55      0.54       240\n",
      "\n"
     ]
    }
   ],
   "source": [
    "print(classification_report(y_test, y_pred))"
   ]
  },
  {
   "cell_type": "code",
   "execution_count": 50,
   "id": "aac57f3a",
   "metadata": {},
   "outputs": [
    {
     "data": {
      "text/html": [
       "<div>\n",
       "<style scoped>\n",
       "    .dataframe tbody tr th:only-of-type {\n",
       "        vertical-align: middle;\n",
       "    }\n",
       "\n",
       "    .dataframe tbody tr th {\n",
       "        vertical-align: top;\n",
       "    }\n",
       "\n",
       "    .dataframe thead th {\n",
       "        text-align: right;\n",
       "    }\n",
       "</style>\n",
       "<table border=\"1\" class=\"dataframe\">\n",
       "  <thead>\n",
       "    <tr style=\"text-align: right;\">\n",
       "      <th></th>\n",
       "      <th>angry</th>\n",
       "      <th>calm</th>\n",
       "      <th>disgust</th>\n",
       "      <th>fearful</th>\n",
       "      <th>happy</th>\n",
       "      <th>neutral</th>\n",
       "      <th>sad</th>\n",
       "      <th>surprised</th>\n",
       "    </tr>\n",
       "  </thead>\n",
       "  <tbody>\n",
       "    <tr>\n",
       "      <th>angry</th>\n",
       "      <td>20</td>\n",
       "      <td>0</td>\n",
       "      <td>6</td>\n",
       "      <td>1</td>\n",
       "      <td>5</td>\n",
       "      <td>0</td>\n",
       "      <td>0</td>\n",
       "      <td>0</td>\n",
       "    </tr>\n",
       "    <tr>\n",
       "      <th>calm</th>\n",
       "      <td>0</td>\n",
       "      <td>29</td>\n",
       "      <td>0</td>\n",
       "      <td>0</td>\n",
       "      <td>0</td>\n",
       "      <td>0</td>\n",
       "      <td>3</td>\n",
       "      <td>0</td>\n",
       "    </tr>\n",
       "    <tr>\n",
       "      <th>disgust</th>\n",
       "      <td>0</td>\n",
       "      <td>4</td>\n",
       "      <td>21</td>\n",
       "      <td>1</td>\n",
       "      <td>3</td>\n",
       "      <td>1</td>\n",
       "      <td>2</td>\n",
       "      <td>0</td>\n",
       "    </tr>\n",
       "    <tr>\n",
       "      <th>fearful</th>\n",
       "      <td>3</td>\n",
       "      <td>0</td>\n",
       "      <td>2</td>\n",
       "      <td>14</td>\n",
       "      <td>4</td>\n",
       "      <td>0</td>\n",
       "      <td>7</td>\n",
       "      <td>2</td>\n",
       "    </tr>\n",
       "    <tr>\n",
       "      <th>happy</th>\n",
       "      <td>1</td>\n",
       "      <td>1</td>\n",
       "      <td>6</td>\n",
       "      <td>2</td>\n",
       "      <td>14</td>\n",
       "      <td>0</td>\n",
       "      <td>8</td>\n",
       "      <td>0</td>\n",
       "    </tr>\n",
       "    <tr>\n",
       "      <th>neutral</th>\n",
       "      <td>0</td>\n",
       "      <td>7</td>\n",
       "      <td>1</td>\n",
       "      <td>0</td>\n",
       "      <td>0</td>\n",
       "      <td>1</td>\n",
       "      <td>7</td>\n",
       "      <td>0</td>\n",
       "    </tr>\n",
       "    <tr>\n",
       "      <th>sad</th>\n",
       "      <td>0</td>\n",
       "      <td>6</td>\n",
       "      <td>8</td>\n",
       "      <td>4</td>\n",
       "      <td>0</td>\n",
       "      <td>0</td>\n",
       "      <td>14</td>\n",
       "      <td>0</td>\n",
       "    </tr>\n",
       "    <tr>\n",
       "      <th>surprised</th>\n",
       "      <td>0</td>\n",
       "      <td>0</td>\n",
       "      <td>3</td>\n",
       "      <td>2</td>\n",
       "      <td>4</td>\n",
       "      <td>0</td>\n",
       "      <td>4</td>\n",
       "      <td>19</td>\n",
       "    </tr>\n",
       "  </tbody>\n",
       "</table>\n",
       "</div>"
      ],
      "text/plain": [
       "           angry  calm  disgust  fearful  happy  neutral  sad  surprised\n",
       "angry         20     0        6        1      5        0    0          0\n",
       "calm           0    29        0        0      0        0    3          0\n",
       "disgust        0     4       21        1      3        1    2          0\n",
       "fearful        3     0        2       14      4        0    7          2\n",
       "happy          1     1        6        2     14        0    8          0\n",
       "neutral        0     7        1        0      0        1    7          0\n",
       "sad            0     6        8        4      0        0   14          0\n",
       "surprised      0     0        3        2      4        0    4         19"
      ]
     },
     "execution_count": 50,
     "metadata": {},
     "output_type": "execute_result"
    }
   ],
   "source": [
    "from sklearn.metrics import confusion_matrix\n",
    "cm = confusion_matrix(y_test, y_pred)\n",
    "pd.DataFrame(cm, index=model.classes_, columns=model.classes_)"
   ]
  },
  {
   "cell_type": "code",
   "execution_count": 51,
   "id": "fa6a14de",
   "metadata": {},
   "outputs": [
    {
     "name": "stderr",
     "output_type": "stream",
     "text": [
      "C:\\Users\\elefa\\anaconda3\\lib\\site-packages\\xgboost\\compat.py:93: FutureWarning: pandas.Int64Index is deprecated and will be removed from pandas in a future version. Use pandas.Index with the appropriate dtype instead.\n",
      "  from pandas import MultiIndex, Int64Index\n"
     ]
    }
   ],
   "source": [
    "from xgboost import XGBClassifier"
   ]
  },
  {
   "cell_type": "code",
   "execution_count": 52,
   "id": "725d09f3",
   "metadata": {},
   "outputs": [],
   "source": [
    "xgbm = XGBClassifier(objective='binary:logistic', reg_alpha=0.5, reg_lambda=1.0, n_estimators=200, random_state=42)"
   ]
  },
  {
   "cell_type": "code",
   "execution_count": 53,
   "id": "09fd1298",
   "metadata": {},
   "outputs": [],
   "source": [
    "grid = {\n",
    "    \"n_estimators\": [200, 400, 600],\n",
    "    \"reg_alpha\": [0.5, 1, 1.5],\n",
    "    \"reg_lambda\": [0.5, 1, 1.5]\n",
    "}"
   ]
  },
  {
   "cell_type": "code",
   "execution_count": null,
   "id": "9e68b69b",
   "metadata": {},
   "outputs": [],
   "source": []
  }
 ],
 "metadata": {
  "kernelspec": {
   "display_name": "Python 3 (ipykernel)",
   "language": "python",
   "name": "python3"
  },
  "language_info": {
   "codemirror_mode": {
    "name": "ipython",
    "version": 3
   },
   "file_extension": ".py",
   "mimetype": "text/x-python",
   "name": "python",
   "nbconvert_exporter": "python",
   "pygments_lexer": "ipython3",
   "version": "3.9.16"
  }
 },
 "nbformat": 4,
 "nbformat_minor": 5
}
