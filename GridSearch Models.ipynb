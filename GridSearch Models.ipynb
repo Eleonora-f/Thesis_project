{
 "cells": [
  {
   "cell_type": "code",
   "execution_count": 1,
   "id": "9b4f678e",
   "metadata": {},
   "outputs": [],
   "source": [
    "import pandas as pd\n",
    "import numpy as np\n",
    "from sklearn.ensemble import RandomForestClassifier\n",
    "from sklearn.model_selection import GridSearchCV\n",
    "from sklearn.model_selection import StratifiedKFold\n",
    "from sklearn.metrics import f1_score\n",
    "from sklearn.metrics import make_scorer\n",
    "\n",
    "from sklearn.datasets import make_classification\n",
    "from sklearn.model_selection import train_test_split\n",
    "from sklearn.preprocessing import LabelEncoder"
   ]
  },
  {
   "cell_type": "code",
   "execution_count": 2,
   "id": "55141d28",
   "metadata": {},
   "outputs": [],
   "source": [
    "dataset = pd.read_csv('dataset.csv', index_col=False)\n",
    "not_features = [\"Path\", \"Emotional_intensity\", \"Statement\", \"Gender\"]\n",
    "features_data = dataset.drop(columns=not_features)\n",
    "\n",
    "features_data.dropna(inplace=True)\n",
    "actor_list = [1, 12, 7, 24]\n",
    "test_set = features_data.loc[features_data['Actor'].isin(actor_list)]\n",
    "training_set = features_data.drop(test_set.index)"
   ]
  },
  {
   "cell_type": "code",
   "execution_count": 3,
   "id": "14b5c505",
   "metadata": {},
   "outputs": [
    {
     "name": "stdout",
     "output_type": "stream",
     "text": [
      "[ 2  3  4  5  6  8  9 10 11 13 14 15 16 17 18 19 20 21 22 23]\n"
     ]
    }
   ],
   "source": [
    "training_actors = training_set['Actor']\n",
    "training_actors = training_actors.unique()\n",
    "\n",
    "print(training_actors)\n",
    "\n",
    "training_actors_m = []\n",
    "training_actors_f = []\n",
    "for actor in training_actors:\n",
    "    if (actor%2 == 0):\n",
    "        training_actors_f.append(actor)\n",
    "    else:\n",
    "        training_actors_m.append(actor)"
   ]
  },
  {
   "cell_type": "code",
   "execution_count": 4,
   "id": "a0c73ec5",
   "metadata": {},
   "outputs": [],
   "source": [
    " # Define the random forest model\n",
    "model = RandomForestClassifier(max_depth=None, bootstrap=True, n_jobs=-1, random_state=42)\n",
    " # Define the grid\n",
    "param_grid = {\n",
    "    \"max_samples\": [0.3, 0.6, 0.7, 0.9, 0.11],\n",
    "    \"n_estimators\": [200, 400, 600, 700, 800]\n",
    "}\n",
    "skf = StratifiedKFold(n_splits=5, shuffle=True, random_state=42)"
   ]
  },
  {
   "cell_type": "code",
   "execution_count": 5,
   "id": "e761f994",
   "metadata": {
    "scrolled": false
   },
   "outputs": [],
   "source": [
    "def GridSearch(model, param_grid):\n",
    "    best_score = 0.0 #verrà inserito punteggio migliore\n",
    "    best_params = {} #per memorizzare i migliori parametri trovati\n",
    "\n",
    "    for max_samples in param_grid['max_samples']:\n",
    "        for n_estimators in param_grid['n_estimators']:\n",
    "            model_accuracy = []\n",
    "            model_f1 = []\n",
    "\n",
    "            for i in range(10):\n",
    "                m = training_actors_m[i]\n",
    "                f = training_actors_f[i]\n",
    " #selezioniamo tutte le righe dal training_set in cui l'attore è uno dei due attori di addestramento selezionati.\n",
    "                cross_test_set = training_set.loc[training_set['Actor'].isin([m, f])] #insieme di test\n",
    "               \n",
    "                cross_training_set = training_set.drop(cross_test_set.index) #insieme di addestramento\n",
    "\n",
    "                y_train = cross_training_set[\"Emotions\"]\n",
    "                X2d_train = cross_training_set[dataset.columns[6:]]\n",
    "                y_test = cross_test_set[\"Emotions\"]\n",
    "                X2d_test = cross_test_set[dataset.columns[6:]]\n",
    "\n",
    "                # Set the model parameters\n",
    "                model.max_samples = max_samples\n",
    "                model.n_estimators = n_estimators\n",
    "\n",
    "                # Fit the classifier\n",
    "                model.fit(X2d_train, y_train)\n",
    "\n",
    "                # Compute the score and record it\n",
    "                model_accuracy.append(model.score(X2d_test, y_test)) \n",
    "                y_pred = model.predict(X2d_test)\n",
    "                model_f1.append(f1_score(y_test, y_pred, average=\"macro\"))\n",
    "\n",
    "            avg_accuracy = sum(model_accuracy) / len(model_accuracy) #calcoliamo la media per le 10 iterazioni\n",
    "            avg_f1 = sum(model_f1) / len(model_f1)\n",
    "\n",
    "            if avg_accuracy > best_score: \n",
    "                #Se l'accuratezza media è superiore al punteggio migliore attuale, \n",
    "                #viene aggiornato il punteggio migliore\n",
    "                best_score = avg_accuracy\n",
    "                best_params['max_samples'] = max_samples\n",
    "                best_params['n_estimators'] = n_estimators\n",
    "\n",
    "            print(f\"max_samples: {max_samples}, n_estimators: {n_estimators}\")\n",
    "            print(f\"Average Accuracy: {avg_accuracy}\")\n",
    "            print(f\"Average F1 Score: {avg_f1}\")\n",
    "            print(\"--------------------\")\n",
    "\n",
    "    print(\"Best parameters:\")\n",
    "    print(f\"max_samples: {best_params['max_samples']}, n_estimators: {best_params['n_estimators']}\")\n",
    "    print(f\"Best Accuracy: {best_score}\")\n",
    "\n",
    "\n"
   ]
  },
  {
   "cell_type": "code",
   "execution_count": null,
   "id": "74610b55",
   "metadata": {},
   "outputs": [
    {
     "name": "stdout",
     "output_type": "stream",
     "text": [
      "max_samples: 0.3, n_estimators: 200\n",
      "Average Accuracy: 0.3625\n",
      "Average F1 Score: 0.32265357067992656\n",
      "--------------------\n",
      "max_samples: 0.3, n_estimators: 400\n",
      "Average Accuracy: 0.38\n",
      "Average F1 Score: 0.3390711168177664\n",
      "--------------------\n",
      "max_samples: 0.3, n_estimators: 600\n",
      "Average Accuracy: 0.38416666666666666\n",
      "Average F1 Score: 0.34453123548014236\n",
      "--------------------\n",
      "max_samples: 0.3, n_estimators: 700\n",
      "Average Accuracy: 0.38333333333333336\n",
      "Average F1 Score: 0.3435280683792147\n",
      "--------------------\n",
      "max_samples: 0.3, n_estimators: 800\n",
      "Average Accuracy: 0.3833333333333333\n",
      "Average F1 Score: 0.3436383597457204\n",
      "--------------------\n",
      "max_samples: 0.6, n_estimators: 200\n",
      "Average Accuracy: 0.38249999999999995\n",
      "Average F1 Score: 0.3423551503715516\n",
      "--------------------\n",
      "max_samples: 0.6, n_estimators: 400\n",
      "Average Accuracy: 0.3899999999999999\n",
      "Average F1 Score: 0.3525449786416241\n",
      "--------------------\n",
      "max_samples: 0.6, n_estimators: 600\n",
      "Average Accuracy: 0.39583333333333326\n",
      "Average F1 Score: 0.3554615482384085\n",
      "--------------------\n"
     ]
    }
   ],
   "source": [
    "#richiamo la funzione per stampare le migliori combinazioni\n",
    "GridSearch(model, param_grid)"
   ]
  },
  {
   "cell_type": "code",
   "execution_count": null,
   "id": "096e51c4",
   "metadata": {},
   "outputs": [],
   "source": []
  }
 ],
 "metadata": {
  "kernelspec": {
   "display_name": "Python 3 (ipykernel)",
   "language": "python",
   "name": "python3"
  },
  "language_info": {
   "codemirror_mode": {
    "name": "ipython",
    "version": 3
   },
   "file_extension": ".py",
   "mimetype": "text/x-python",
   "name": "python",
   "nbconvert_exporter": "python",
   "pygments_lexer": "ipython3",
   "version": "3.9.16"
  }
 },
 "nbformat": 4,
 "nbformat_minor": 5
}
