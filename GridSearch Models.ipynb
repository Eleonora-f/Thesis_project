{
 "cells": [
  {
   "cell_type": "code",
   "execution_count": 1,
   "id": "9b4f678e",
   "metadata": {},
   "outputs": [],
   "source": [
    "import pandas as pd\n",
    "import numpy as np\n",
    "from sklearn.ensemble import RandomForestClassifier\n",
    "from sklearn.model_selection import GridSearchCV\n",
    "from sklearn.model_selection import StratifiedKFold\n",
    "from sklearn.metrics import f1_score"
   ]
  },
  {
   "cell_type": "code",
   "execution_count": 2,
   "id": "55141d28",
   "metadata": {},
   "outputs": [],
   "source": [
    "dataset = pd.read_csv('dataset.csv', index_col=False)\n",
    "not_features = [\"Path\", \"Emotional_intensity\", \"Statement\", \"Gender\"]\n",
    "features_data = dataset.drop(columns=not_features)\n",
    "features_data\n",
    "actor_list = [1, 12, 7, 24]\n",
    "test_set = features_data.loc[features_data['Actor'].isin(actor_list)]\n",
    "training_set = features_data.drop(test_set.index)\n",
    "training_actors = training_set['Actor']\n",
    "training_actors = training_actors.unique"
   ]
  },
  {
   "cell_type": "code",
   "execution_count": 3,
   "id": "20dffd8e",
   "metadata": {},
   "outputs": [],
   "source": [
    "y_train = training_set[\"Emotions\"]\n",
    "X2d_train = training_set[dataset.columns[6:]]\n",
    "y_test = test_set[\"Emotions\"]\n",
    "X2d_test = test_set[dataset.columns[6:]]\n"
   ]
  },
  {
   "cell_type": "code",
   "execution_count": 4,
   "id": "61dc3550",
   "metadata": {},
   "outputs": [],
   "source": [
    "accuracy = []\n",
    "f1 = []"
   ]
  },
  {
   "cell_type": "code",
   "execution_count": 5,
   "id": "8bddbe45",
   "metadata": {},
   "outputs": [],
   "source": [
    "grid = {\n",
    "    \"max_samples\": [0.3, 0.6, 0.9],\n",
    "    \"n_estimators\": [200, 400, 600]\n",
    "}\n",
    "model = RandomForestClassifier(n_estimators=200, max_depth=None, max_samples=0.9, bootstrap=True, n_jobs=-1, random_state=42)"
   ]
  },
  {
   "cell_type": "code",
   "execution_count": 6,
   "id": "e761f994",
   "metadata": {},
   "outputs": [],
   "source": [
    "def gridSearchRandomForest(model, grid):\n",
    "    skf = StratifiedKFold(n_splits=10, shuffle=True, random_state=42)\n",
    "    rf = RandomForestClassifier(max_depth=None, bootstrap=True, n_jobs=-1, random_state=42)\n",
    "    grid_search = GridSearchCV(rf, grid, scoring='accuracy', cv=skf)\n",
    "    grid_search.fit(X_train, y_train)\n",
    "    print(\"Best parameters found:\", grid_search.best_params_)\n",
    "    print(\"Best accuracy score:\", grid_search.best_score_)\n",
    "\n",
    "    best_accuracy = 0\n",
    "    best_params = {}\n",
    "    for max_samples in grid[\"max_samples\"]:\n",
    "        for n_estimators in grid[\"n_estimators\"]:\n",
    "            model.set_params(max_samples=max_samples, n_estimators=n_estimators)\n",
    "            model_accuracy = []\n",
    "            model_f1 = []\n",
    "            for train_index, test_index in skf.split(X2d_train, y_train[\"Emotions\"]):\n",
    "                training_set = dataset.iloc[train_index]\n",
    "                testing_set = dataset.iloc[test_index]\n",
    "\n",
    "                # Separate male and female actors\n",
    "                training_actors_m = training_set[training_set['Gender'] == 'M']['Actor'].unique()\n",
    "                training_actors_f = training_set[training_set['Gender'] == 'F']['Actor'].unique()\n",
    "\n",
    "                # Cross-validation\n",
    "                cross_validation(model)\n",
    "\n",
    "            # Compute average accuracy and f1 score for the current model\n",
    "            avg_accuracy = np.mean(model_accuracy)\n",
    "            avg_f1 = np.mean(model_f1)\n",
    "\n",
    "            # Print results\n",
    "            print(\"max_samples:\", max_samples, \"n_estimators:\", n_estimators, \"accuracy:\", avg_accuracy, \"avg_f1:\", avg_f1)\n",
    "\n",
    "#I would like two for loop inside def gridSearchRandomForest,  before model_accuracy's\n",
    "#initialization that iterates over the two parameters two find the best accuracy of the two arrays\n"
   ]
  },
  {
   "cell_type": "code",
   "execution_count": 7,
   "id": "781cf46c",
   "metadata": {},
   "outputs": [],
   "source": [
    "from sklearn.model_selection import GridSearchCV\n",
    "from sklearn.metrics import make_scorer"
   ]
  },
  {
   "cell_type": "code",
   "execution_count": 8,
   "id": "a39ce75e",
   "metadata": {},
   "outputs": [],
   "source": [
    "skf = StratifiedKFold(5, shuffle=True, random_state=42)"
   ]
  },
  {
   "cell_type": "code",
   "execution_count": 9,
   "id": "d19d2e6e",
   "metadata": {},
   "outputs": [
    {
     "ename": "NameError",
     "evalue": "name 'rfm' is not defined",
     "output_type": "error",
     "traceback": [
      "\u001b[1;31m---------------------------------------------------------------------------\u001b[0m",
      "\u001b[1;31mNameError\u001b[0m                                 Traceback (most recent call last)",
      "Cell \u001b[1;32mIn[9], line 1\u001b[0m\n\u001b[1;32m----> 1\u001b[0m gs \u001b[38;5;241m=\u001b[39m GridSearchCV(\u001b[43mrfm\u001b[49m, grid, cv\u001b[38;5;241m=\u001b[39mskf, scoring\u001b[38;5;241m=\u001b[39mmake_scorer(f1_score, average\u001b[38;5;241m=\u001b[39m\u001b[38;5;124m\"\u001b[39m\u001b[38;5;124mmacro\u001b[39m\u001b[38;5;124m\"\u001b[39m))\n",
      "\u001b[1;31mNameError\u001b[0m: name 'rfm' is not defined"
     ]
    }
   ],
   "source": [
    "gs = GridSearchCV(rfm, grid, cv=skf, scoring=make_scorer(f1_score, average=\"macro\"))"
   ]
  },
  {
   "cell_type": "code",
   "execution_count": null,
   "id": "417c75cb",
   "metadata": {},
   "outputs": [],
   "source": [
    "gs.fit(X2d_train, y_train);"
   ]
  },
  {
   "cell_type": "code",
   "execution_count": 12,
   "id": "96b2ce3b",
   "metadata": {},
   "outputs": [
    {
     "data": {
      "text/plain": [
       "{'max_samples': 0.9, 'n_estimators': 400}"
      ]
     },
     "execution_count": 12,
     "metadata": {},
     "output_type": "execute_result"
    }
   ],
   "source": [
    "gs.best_params_"
   ]
  },
  {
   "cell_type": "code",
   "execution_count": 13,
   "id": "18d5e836",
   "metadata": {},
   "outputs": [],
   "source": [
    "model = gs.best_estimator_"
   ]
  },
  {
   "cell_type": "code",
   "execution_count": 44,
   "id": "b0d9f770",
   "metadata": {},
   "outputs": [
    {
     "data": {
      "text/plain": [
       "0.55"
      ]
     },
     "execution_count": 44,
     "metadata": {},
     "output_type": "execute_result"
    }
   ],
   "source": [
    "model.score(X2d_test, y_test)"
   ]
  },
  {
   "cell_type": "code",
   "execution_count": 45,
   "id": "8a69ddee",
   "metadata": {},
   "outputs": [],
   "source": [
    "y_pred = model.predict(X2d_test)"
   ]
  },
  {
   "cell_type": "code",
   "execution_count": 46,
   "id": "8be0dae5",
   "metadata": {},
   "outputs": [
    {
     "data": {
      "text/plain": [
       "array([0.71428571, 0.73417722, 0.53164557, 0.5       , 0.4516129 ,\n",
       "       0.11111111, 0.36363636, 0.71698113])"
      ]
     },
     "execution_count": 46,
     "metadata": {},
     "output_type": "execute_result"
    }
   ],
   "source": [
    "f1_score(y_test, y_pred, average=None)"
   ]
  },
  {
   "cell_type": "code",
   "execution_count": 47,
   "id": "2dad752e",
   "metadata": {},
   "outputs": [
    {
     "data": {
      "text/plain": [
       "0.5154312511430743"
      ]
     },
     "execution_count": 47,
     "metadata": {},
     "output_type": "execute_result"
    }
   ],
   "source": [
    "f1_score(y_test, y_pred, average=\"macro\")"
   ]
  },
  {
   "cell_type": "code",
   "execution_count": 48,
   "id": "9bbc676d",
   "metadata": {},
   "outputs": [],
   "source": [
    "from sklearn.metrics import classification_report"
   ]
  },
  {
   "cell_type": "code",
   "execution_count": 49,
   "id": "e8ef6c7f",
   "metadata": {},
   "outputs": [
    {
     "name": "stdout",
     "output_type": "stream",
     "text": [
      "              precision    recall  f1-score   support\n",
      "\n",
      "       angry       0.83      0.62      0.71        32\n",
      "        calm       0.62      0.91      0.73        32\n",
      "     disgust       0.45      0.66      0.53        32\n",
      "     fearful       0.58      0.44      0.50        32\n",
      "       happy       0.47      0.44      0.45        32\n",
      "     neutral       0.50      0.06      0.11        16\n",
      "         sad       0.31      0.44      0.36        32\n",
      "   surprised       0.90      0.59      0.72        32\n",
      "\n",
      "    accuracy                           0.55       240\n",
      "   macro avg       0.58      0.52      0.52       240\n",
      "weighted avg       0.59      0.55      0.54       240\n",
      "\n"
     ]
    }
   ],
   "source": [
    "print(classification_report(y_test, y_pred))"
   ]
  },
  {
   "cell_type": "code",
   "execution_count": 50,
   "id": "42553b81",
   "metadata": {},
   "outputs": [
    {
     "data": {
      "text/html": [
       "<div>\n",
       "<style scoped>\n",
       "    .dataframe tbody tr th:only-of-type {\n",
       "        vertical-align: middle;\n",
       "    }\n",
       "\n",
       "    .dataframe tbody tr th {\n",
       "        vertical-align: top;\n",
       "    }\n",
       "\n",
       "    .dataframe thead th {\n",
       "        text-align: right;\n",
       "    }\n",
       "</style>\n",
       "<table border=\"1\" class=\"dataframe\">\n",
       "  <thead>\n",
       "    <tr style=\"text-align: right;\">\n",
       "      <th></th>\n",
       "      <th>angry</th>\n",
       "      <th>calm</th>\n",
       "      <th>disgust</th>\n",
       "      <th>fearful</th>\n",
       "      <th>happy</th>\n",
       "      <th>neutral</th>\n",
       "      <th>sad</th>\n",
       "      <th>surprised</th>\n",
       "    </tr>\n",
       "  </thead>\n",
       "  <tbody>\n",
       "    <tr>\n",
       "      <th>angry</th>\n",
       "      <td>20</td>\n",
       "      <td>0</td>\n",
       "      <td>6</td>\n",
       "      <td>1</td>\n",
       "      <td>5</td>\n",
       "      <td>0</td>\n",
       "      <td>0</td>\n",
       "      <td>0</td>\n",
       "    </tr>\n",
       "    <tr>\n",
       "      <th>calm</th>\n",
       "      <td>0</td>\n",
       "      <td>29</td>\n",
       "      <td>0</td>\n",
       "      <td>0</td>\n",
       "      <td>0</td>\n",
       "      <td>0</td>\n",
       "      <td>3</td>\n",
       "      <td>0</td>\n",
       "    </tr>\n",
       "    <tr>\n",
       "      <th>disgust</th>\n",
       "      <td>0</td>\n",
       "      <td>4</td>\n",
       "      <td>21</td>\n",
       "      <td>1</td>\n",
       "      <td>3</td>\n",
       "      <td>1</td>\n",
       "      <td>2</td>\n",
       "      <td>0</td>\n",
       "    </tr>\n",
       "    <tr>\n",
       "      <th>fearful</th>\n",
       "      <td>3</td>\n",
       "      <td>0</td>\n",
       "      <td>2</td>\n",
       "      <td>14</td>\n",
       "      <td>4</td>\n",
       "      <td>0</td>\n",
       "      <td>7</td>\n",
       "      <td>2</td>\n",
       "    </tr>\n",
       "    <tr>\n",
       "      <th>happy</th>\n",
       "      <td>1</td>\n",
       "      <td>1</td>\n",
       "      <td>6</td>\n",
       "      <td>2</td>\n",
       "      <td>14</td>\n",
       "      <td>0</td>\n",
       "      <td>8</td>\n",
       "      <td>0</td>\n",
       "    </tr>\n",
       "    <tr>\n",
       "      <th>neutral</th>\n",
       "      <td>0</td>\n",
       "      <td>7</td>\n",
       "      <td>1</td>\n",
       "      <td>0</td>\n",
       "      <td>0</td>\n",
       "      <td>1</td>\n",
       "      <td>7</td>\n",
       "      <td>0</td>\n",
       "    </tr>\n",
       "    <tr>\n",
       "      <th>sad</th>\n",
       "      <td>0</td>\n",
       "      <td>6</td>\n",
       "      <td>8</td>\n",
       "      <td>4</td>\n",
       "      <td>0</td>\n",
       "      <td>0</td>\n",
       "      <td>14</td>\n",
       "      <td>0</td>\n",
       "    </tr>\n",
       "    <tr>\n",
       "      <th>surprised</th>\n",
       "      <td>0</td>\n",
       "      <td>0</td>\n",
       "      <td>3</td>\n",
       "      <td>2</td>\n",
       "      <td>4</td>\n",
       "      <td>0</td>\n",
       "      <td>4</td>\n",
       "      <td>19</td>\n",
       "    </tr>\n",
       "  </tbody>\n",
       "</table>\n",
       "</div>"
      ],
      "text/plain": [
       "           angry  calm  disgust  fearful  happy  neutral  sad  surprised\n",
       "angry         20     0        6        1      5        0    0          0\n",
       "calm           0    29        0        0      0        0    3          0\n",
       "disgust        0     4       21        1      3        1    2          0\n",
       "fearful        3     0        2       14      4        0    7          2\n",
       "happy          1     1        6        2     14        0    8          0\n",
       "neutral        0     7        1        0      0        1    7          0\n",
       "sad            0     6        8        4      0        0   14          0\n",
       "surprised      0     0        3        2      4        0    4         19"
      ]
     },
     "execution_count": 50,
     "metadata": {},
     "output_type": "execute_result"
    }
   ],
   "source": [
    "from sklearn.metrics import confusion_matrix\n",
    "cm = confusion_matrix(y_test, y_pred)\n",
    "pd.DataFrame(cm, index=model.classes_, columns=model.classes_)"
   ]
  },
  {
   "cell_type": "code",
   "execution_count": 51,
   "id": "4f6196ac",
   "metadata": {},
   "outputs": [
    {
     "name": "stderr",
     "output_type": "stream",
     "text": [
      "C:\\Users\\elefa\\anaconda3\\lib\\site-packages\\xgboost\\compat.py:93: FutureWarning: pandas.Int64Index is deprecated and will be removed from pandas in a future version. Use pandas.Index with the appropriate dtype instead.\n",
      "  from pandas import MultiIndex, Int64Index\n"
     ]
    }
   ],
   "source": [
    "from xgboost import XGBClassifier"
   ]
  },
  {
   "cell_type": "code",
   "execution_count": 52,
   "id": "b5561817",
   "metadata": {},
   "outputs": [],
   "source": [
    "xgbm = XGBClassifier(objective='binary:logistic', reg_alpha=0.5, reg_lambda=1.0, n_estimators=200, random_state=42)"
   ]
  },
  {
   "cell_type": "code",
   "execution_count": 53,
   "id": "fdf11810",
   "metadata": {},
   "outputs": [],
   "source": [
    "grid = {\n",
    "    \"n_estimators\": [200, 400, 600],\n",
    "    \"reg_alpha\": [0.5, 1, 1.5],\n",
    "    \"reg_lambda\": [0.5, 1, 1.5]\n",
    "}"
   ]
  },
  {
   "cell_type": "code",
   "execution_count": null,
   "id": "bea3e708",
   "metadata": {},
   "outputs": [],
   "source": []
  }
 ],
 "metadata": {
  "kernelspec": {
   "display_name": "Python 3 (ipykernel)",
   "language": "python",
   "name": "python3"
  },
  "language_info": {
   "codemirror_mode": {
    "name": "ipython",
    "version": 3
   },
   "file_extension": ".py",
   "mimetype": "text/x-python",
   "name": "python",
   "nbconvert_exporter": "python",
   "pygments_lexer": "ipython3",
   "version": "3.9.16"
  }
 },
 "nbformat": 4,
 "nbformat_minor": 5
}
