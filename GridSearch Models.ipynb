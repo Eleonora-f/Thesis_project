{
 "cells": [
  {
   "cell_type": "code",
   "execution_count": 1,
   "id": "9b4f678e",
   "metadata": {},
   "outputs": [],
   "source": [
    "import pandas as pd\n",
    "import numpy as np\n",
    "from sklearn.ensemble import RandomForestClassifier\n",
    "from sklearn.model_selection import GridSearchCV\n",
    "from sklearn.model_selection import StratifiedKFold\n",
    "from sklearn.metrics import f1_score\n",
    "from sklearn.metrics import make_scorer\n",
    "\n",
    "from sklearn.datasets import make_classification\n",
    "from sklearn.model_selection import train_test_split\n",
    "from sklearn.preprocessing import LabelEncoder"
   ]
  },
  {
   "cell_type": "code",
   "execution_count": 2,
   "id": "55141d28",
   "metadata": {},
   "outputs": [],
   "source": [
    "dataset = pd.read_csv('dataset.csv', index_col=False)\n",
    "not_features = [\"Path\", \"Emotional_intensity\", \"Statement\", \"Gender\"]\n",
    "features_data = dataset.drop(columns=not_features)\n",
    "\n",
    "features_data.dropna(inplace=True)"
   ]
  },
  {
   "cell_type": "code",
   "execution_count": 3,
   "id": "af79198b",
   "metadata": {},
   "outputs": [],
   "source": [
    "#Elaborazione dei dati\n",
    "actor_list = [1, 12, 7, 24]\n",
    "test_set = features_data.loc[features_data['Actor'].isin(actor_list)]\n",
    "training_set = features_data.drop(test_set.index)\n",
    "training_actors = training_set['Actor'].unique()\n",
    "training_actors_m = []\n",
    "training_actors_f = []\n",
    "for actor in training_actors:\n",
    "    if (actor%2 == 0):\n",
    "        training_actors_f.append(actor)\n",
    "    else:\n",
    "        training_actors_m.append(actor)"
   ]
  },
  {
   "cell_type": "code",
   "execution_count": 4,
   "id": "20dffd8e",
   "metadata": {},
   "outputs": [],
   "source": [
    "y_train = training_set[\"Emotions\"]\n",
    "X2d_train = training_set[dataset.columns[6:]]\n",
    "y_test = test_set[\"Emotions\"]\n",
    "X2d_test = test_set[dataset.columns[6:]]\n"
   ]
  },
  {
   "cell_type": "code",
   "execution_count": 5,
   "id": "a0c73ec5",
   "metadata": {},
   "outputs": [],
   "source": [
    " # Define the random forest model\n",
    "rfm = RandomForestClassifier(max_samples=0.9, n_estimators=200, max_depth=None, n_jobs=-1, random_state=42)\n",
    " # Define the grid\n",
    "grid = {\n",
    "    \"max_samples\": [0.3, 0.6, 0.7, 0.9, 0.11],\n",
    "    \"n_estimators\": [200, 400, 600, 700, 800]\n",
    "}\n",
    "skf = StratifiedKFold(n_splits=5, shuffle=True, random_state=42)"
   ]
  },
  {
   "cell_type": "code",
   "execution_count": 6,
   "id": "e761f994",
   "metadata": {
    "scrolled": false
   },
   "outputs": [],
   "source": [
    "def cross_validation(model):\n",
    "    parameters = {'max_samples': [0.5, 0.7, 0.9], 'n_estimators': [50, 100, 150]}\n",
    "    best_accuracy = 0.0\n",
    "    best_params = {}\n",
    "\n",
    "    for max_samples in parameters['max_samples']:\n",
    "        for n_estimators in parameters['n_estimators']:\n",
    "            model_accuracy = []\n",
    "            model_f1 = []\n",
    "\n",
    "            for i in range(10):\n",
    "                m = training_actors_m[i]\n",
    "                f = training_actors_f[i]\n",
    "\n",
    "                cross_test_set = training_set.loc[training_set['Actor'].isin([m, f])]\n",
    "                cross_training_set = training_set.drop(cross_test_set.index)\n",
    "\n",
    "                y_train = cross_training_set[\"Emotions\"]\n",
    "                X2d_train = cross_training_set[dataset.columns[6:]]\n",
    "                y_test = cross_test_set[\"Emotions\"]\n",
    "                X2d_test = cross_test_set[dataset.columns[6:]]\n",
    "\n",
    "                # Fit the classifier\n",
    "                model.max_samples = max_samples\n",
    "                model.n_estimators = n_estimators\n",
    "                model.fit(X2d_train, y_train)\n",
    "\n",
    "                # Compute the score and record it\n",
    "                accuracy = model.score(X2d_test, y_test)\n",
    "                model_accuracy.append(accuracy)\n",
    "\n",
    "                y_pred = model.predict(X2d_test)\n",
    "                f1 = f1_score(y_test, y_pred, average=\"macro\")\n",
    "                model_f1.append(f1)\n",
    "\n",
    "            avg_accuracy = sum(model_accuracy) / len(model_accuracy)\n",
    "            avg_f1 = sum(model_f1) / len(model_f1)\n",
    "\n",
    "            if avg_accuracy > best_accuracy:\n",
    "                best_accuracy = avg_accuracy\n",
    "                best_params = {'max_samples': max_samples, 'n_estimators': n_estimators}\n",
    "\n",
    "    print(\"Best parameters:\", best_params)\n",
    "    print(\"Best accuracy:\", best_accuracy)\n",
    "\n",
    "    return best_params, best_accuracy\n",
    "\n"
   ]
  },
  {
   "cell_type": "code",
   "execution_count": 7,
   "id": "8be0dae5",
   "metadata": {
    "scrolled": true
   },
   "outputs": [
    {
     "name": "stdout",
     "output_type": "stream",
     "text": [
      "Best parameters: {'max_samples': 0.9, 'n_estimators': 100}\n",
      "Best accuracy: 0.395\n",
      "({'max_samples': 0.9, 'n_estimators': 100}, 0.395)\n"
     ]
    }
   ],
   "source": [
    "rfm = RandomForestClassifier()\n",
    "results = cross_validation(rfm)\n",
    "print(results)\n"
   ]
  },
  {
   "cell_type": "code",
   "execution_count": 8,
   "id": "2dad752e",
   "metadata": {},
   "outputs": [
    {
     "ename": "NameError",
     "evalue": "name 'y_pred' is not defined",
     "output_type": "error",
     "traceback": [
      "\u001b[1;31m---------------------------------------------------------------------------\u001b[0m",
      "\u001b[1;31mNameError\u001b[0m                                 Traceback (most recent call last)",
      "Cell \u001b[1;32mIn[8], line 1\u001b[0m\n\u001b[1;32m----> 1\u001b[0m f1_score(y_test, \u001b[43my_pred\u001b[49m, average\u001b[38;5;241m=\u001b[39m\u001b[38;5;124m\"\u001b[39m\u001b[38;5;124mmacro\u001b[39m\u001b[38;5;124m\"\u001b[39m)\n",
      "\u001b[1;31mNameError\u001b[0m: name 'y_pred' is not defined"
     ]
    }
   ],
   "source": [
    "f1_score(y_test, y_pred, average=\"macro\")"
   ]
  },
  {
   "cell_type": "code",
   "execution_count": null,
   "id": "9bbc676d",
   "metadata": {},
   "outputs": [],
   "source": [
    "from sklearn.metrics import classification_report"
   ]
  },
  {
   "cell_type": "code",
   "execution_count": null,
   "id": "e8ef6c7f",
   "metadata": {},
   "outputs": [],
   "source": [
    "print(classification_report(y_test, y_pred))"
   ]
  },
  {
   "cell_type": "code",
   "execution_count": 18,
   "id": "42553b81",
   "metadata": {},
   "outputs": [
    {
     "data": {
      "text/html": [
       "<div>\n",
       "<style scoped>\n",
       "    .dataframe tbody tr th:only-of-type {\n",
       "        vertical-align: middle;\n",
       "    }\n",
       "\n",
       "    .dataframe tbody tr th {\n",
       "        vertical-align: top;\n",
       "    }\n",
       "\n",
       "    .dataframe thead th {\n",
       "        text-align: right;\n",
       "    }\n",
       "</style>\n",
       "<table border=\"1\" class=\"dataframe\">\n",
       "  <thead>\n",
       "    <tr style=\"text-align: right;\">\n",
       "      <th></th>\n",
       "      <th>angry</th>\n",
       "      <th>calm</th>\n",
       "      <th>disgust</th>\n",
       "      <th>fearful</th>\n",
       "      <th>happy</th>\n",
       "      <th>neutral</th>\n",
       "      <th>sad</th>\n",
       "      <th>surprised</th>\n",
       "    </tr>\n",
       "  </thead>\n",
       "  <tbody>\n",
       "    <tr>\n",
       "      <th>angry</th>\n",
       "      <td>20</td>\n",
       "      <td>0</td>\n",
       "      <td>6</td>\n",
       "      <td>1</td>\n",
       "      <td>5</td>\n",
       "      <td>0</td>\n",
       "      <td>0</td>\n",
       "      <td>0</td>\n",
       "    </tr>\n",
       "    <tr>\n",
       "      <th>calm</th>\n",
       "      <td>0</td>\n",
       "      <td>29</td>\n",
       "      <td>0</td>\n",
       "      <td>0</td>\n",
       "      <td>0</td>\n",
       "      <td>0</td>\n",
       "      <td>3</td>\n",
       "      <td>0</td>\n",
       "    </tr>\n",
       "    <tr>\n",
       "      <th>disgust</th>\n",
       "      <td>0</td>\n",
       "      <td>4</td>\n",
       "      <td>21</td>\n",
       "      <td>1</td>\n",
       "      <td>3</td>\n",
       "      <td>1</td>\n",
       "      <td>2</td>\n",
       "      <td>0</td>\n",
       "    </tr>\n",
       "    <tr>\n",
       "      <th>fearful</th>\n",
       "      <td>3</td>\n",
       "      <td>0</td>\n",
       "      <td>2</td>\n",
       "      <td>14</td>\n",
       "      <td>4</td>\n",
       "      <td>0</td>\n",
       "      <td>7</td>\n",
       "      <td>2</td>\n",
       "    </tr>\n",
       "    <tr>\n",
       "      <th>happy</th>\n",
       "      <td>1</td>\n",
       "      <td>1</td>\n",
       "      <td>6</td>\n",
       "      <td>2</td>\n",
       "      <td>14</td>\n",
       "      <td>0</td>\n",
       "      <td>8</td>\n",
       "      <td>0</td>\n",
       "    </tr>\n",
       "    <tr>\n",
       "      <th>neutral</th>\n",
       "      <td>0</td>\n",
       "      <td>7</td>\n",
       "      <td>1</td>\n",
       "      <td>0</td>\n",
       "      <td>0</td>\n",
       "      <td>1</td>\n",
       "      <td>7</td>\n",
       "      <td>0</td>\n",
       "    </tr>\n",
       "    <tr>\n",
       "      <th>sad</th>\n",
       "      <td>0</td>\n",
       "      <td>6</td>\n",
       "      <td>8</td>\n",
       "      <td>4</td>\n",
       "      <td>0</td>\n",
       "      <td>0</td>\n",
       "      <td>14</td>\n",
       "      <td>0</td>\n",
       "    </tr>\n",
       "    <tr>\n",
       "      <th>surprised</th>\n",
       "      <td>0</td>\n",
       "      <td>0</td>\n",
       "      <td>3</td>\n",
       "      <td>2</td>\n",
       "      <td>4</td>\n",
       "      <td>0</td>\n",
       "      <td>4</td>\n",
       "      <td>19</td>\n",
       "    </tr>\n",
       "  </tbody>\n",
       "</table>\n",
       "</div>"
      ],
      "text/plain": [
       "           angry  calm  disgust  fearful  happy  neutral  sad  surprised\n",
       "angry         20     0        6        1      5        0    0          0\n",
       "calm           0    29        0        0      0        0    3          0\n",
       "disgust        0     4       21        1      3        1    2          0\n",
       "fearful        3     0        2       14      4        0    7          2\n",
       "happy          1     1        6        2     14        0    8          0\n",
       "neutral        0     7        1        0      0        1    7          0\n",
       "sad            0     6        8        4      0        0   14          0\n",
       "surprised      0     0        3        2      4        0    4         19"
      ]
     },
     "execution_count": 18,
     "metadata": {},
     "output_type": "execute_result"
    }
   ],
   "source": [
    "from sklearn.metrics import confusion_matrix\n",
    "cm = confusion_matrix(y_test, y_pred)\n",
    "pd.DataFrame(cm, index=best_model.classes_, columns=best_model\n",
    "             \n",
    "             \n",
    "             \n",
    "             .classes_)"
   ]
  }
 ],
 "metadata": {
  "kernelspec": {
   "display_name": "Python 3 (ipykernel)",
   "language": "python",
   "name": "python3"
  },
  "language_info": {
   "codemirror_mode": {
    "name": "ipython",
    "version": 3
   },
   "file_extension": ".py",
   "mimetype": "text/x-python",
   "name": "python",
   "nbconvert_exporter": "python",
   "pygments_lexer": "ipython3",
   "version": "3.9.16"
  }
 },
 "nbformat": 4,
 "nbformat_minor": 5
}
