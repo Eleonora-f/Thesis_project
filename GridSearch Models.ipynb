{
 "cells": [
  {
   "cell_type": "code",
   "execution_count": 12,
   "id": "9b4f678e",
   "metadata": {},
   "outputs": [],
   "source": [
    "import pandas as pd\n",
    "from sklearn.ensemble import RandomForestClassifier\n",
    "from sklearn.model_selection import GridSearchCV\n",
    "from sklearn.model_selection import StratifiedKFold\n",
    "from sklearn.metrics import f1_score\n",
    "from sklearn.metrics import make_scorer\n",
    "\n",
    "from sklearn.datasets import make_classification\n",
    "from sklearn.model_selection import train_test_split"
   ]
  },
  {
   "cell_type": "code",
   "execution_count": 13,
   "id": "55141d28",
   "metadata": {},
   "outputs": [],
   "source": [
    "dataset = pd.read_csv('dataset.csv', index_col=False)\n",
    "not_features = [\"Path\", \"Emotional_intensity\", \"Statement\", \"Gender\"]\n",
    "features_data = dataset.drop(columns=not_features)\n",
    "\n",
    "features_data.dropna(inplace=True)"
   ]
  },
  {
   "cell_type": "code",
   "execution_count": 14,
   "id": "22c60d0a",
   "metadata": {},
   "outputs": [],
   "source": [
    "#Elaborazione dei dati\n",
    "actor_list = [1, 12, 7, 24]\n",
    "test_set = features_data.loc[features_data['Actor'].isin(actor_list)]\n",
    "training_set = features_data.drop(test_set.index)\n",
    "training_actors = training_set['Actor']\n",
    "training_actors = training_actors.unique"
   ]
  },
  {
   "cell_type": "code",
   "execution_count": 15,
   "id": "20dffd8e",
   "metadata": {},
   "outputs": [],
   "source": [
    "# Generate some random data for demonstration purposes\n",
    "#X, y = make_classification(n_samples=1000, n_features=10, random_state=42)\n",
    "\n",
    "y_train = training_set[\"Emotions\"]\n",
    "X2d_train = training_set[dataset.columns[6:]]\n",
    "y_test = test_set[\"Emotions\"]\n",
    "X2d_test = test_set[dataset.columns[6:]]\n"
   ]
  },
  {
   "cell_type": "code",
   "execution_count": 16,
   "id": "a4c2b6b8",
   "metadata": {},
   "outputs": [],
   "source": [
    " # Define the random forest model\n",
    "rfm = RandomForestClassifier(max_samples=0.9, n_estimators=200, max_depth=None, n_jobs=-1, random_state=42)\n",
    " # Define the grid\n",
    "grid = {\n",
    "    \"max_samples\": [0.3, 0.6, 0.7, 0.9, 0.11],\n",
    "    \"n_estimators\": [200, 400, 600, 700, 800]\n",
    "}"
   ]
  },
  {
   "cell_type": "code",
   "execution_count": 17,
   "id": "e761f994",
   "metadata": {
    "scrolled": false
   },
   "outputs": [
    {
     "name": "stdout",
     "output_type": "stream",
     "text": [
      "Best hyperparameters:  {'max_samples': 0.9, 'n_estimators': 400}\n",
      "Best F1 score: 0.5668\n",
      "F1 score on the test set: 1.0000\n"
     ]
    }
   ],
   "source": [
    "def grid_search_rf(X2d_train, y_train, rfm, grid, cv=5):\n",
    "   \n",
    "    # Define the cross-validation strategy\n",
    "    skf = StratifiedKFold(n_splits=cv, shuffle=True, random_state=42)\n",
    "    # Define the grid search\n",
    "    gs = GridSearchCV(rfm, grid, cv=skf, scoring=make_scorer(f1_score, average=\"macro\"))\n",
    "    # Perform the grid search\n",
    "    gs.fit(X2d_train, y_train)\n",
    "    # Print the best hyperparameters and corresponding F1 score\n",
    "    print(\"Best hyperparameters: \", gs.best_params_)\n",
    "    print(\"Best F1 score: {:.4f}\".format(gs.best_score_))\n",
    "    # Compute the F1 score on the test set using the best model\n",
    "    best_model = gs.best_estimator_\n",
    "    y_pred = best_model.predict(X2d_train)\n",
    "    f1 = f1_score(y_train, y_pred, average='macro')\n",
    "    print(\"F1 score on the test set: {:.4f}\".format(f1))\n",
    "    return best_model\n",
    "\n",
    "best_model = grid_search_rf(X2d_train, y_train, rfm, grid, cv=5)"
   ]
  },
  {
   "cell_type": "code",
   "execution_count": 19,
   "id": "8bc8931d",
   "metadata": {},
   "outputs": [
    {
     "ename": "NameError",
     "evalue": "name 'skf' is not defined",
     "output_type": "error",
     "traceback": [
      "\u001b[1;31m---------------------------------------------------------------------------\u001b[0m",
      "\u001b[1;31mNameError\u001b[0m                                 Traceback (most recent call last)",
      "Cell \u001b[1;32mIn[19], line 1\u001b[0m\n\u001b[1;32m----> 1\u001b[0m gs \u001b[38;5;241m=\u001b[39m GridSearchCV(rfm, grid, cv\u001b[38;5;241m=\u001b[39m\u001b[43mskf\u001b[49m, scoring\u001b[38;5;241m=\u001b[39mmake_scorer(f1_score, average\u001b[38;5;241m=\u001b[39m\u001b[38;5;124m\"\u001b[39m\u001b[38;5;124mmacro\u001b[39m\u001b[38;5;124m\"\u001b[39m))\n",
      "\u001b[1;31mNameError\u001b[0m: name 'skf' is not defined"
     ]
    }
   ],
   "source": [
    "gs = GridSearchCV(rfm, grid, cv=skf, scoring=make_scorer(f1_score, average=\"macro\"))"
   ]
  },
  {
   "cell_type": "code",
   "execution_count": 18,
   "id": "b0d9f770",
   "metadata": {
    "scrolled": true
   },
   "outputs": [
    {
     "ename": "NameError",
     "evalue": "name 'model' is not defined",
     "output_type": "error",
     "traceback": [
      "\u001b[1;31m---------------------------------------------------------------------------\u001b[0m",
      "\u001b[1;31mNameError\u001b[0m                                 Traceback (most recent call last)",
      "Cell \u001b[1;32mIn[18], line 1\u001b[0m\n\u001b[1;32m----> 1\u001b[0m \u001b[43mmodel\u001b[49m\u001b[38;5;241m.\u001b[39mscore(X2d_test, y_test)\n",
      "\u001b[1;31mNameError\u001b[0m: name 'model' is not defined"
     ]
    }
   ],
   "source": [
    "model.score(X2d_test, y_test)"
   ]
  },
  {
   "cell_type": "code",
   "execution_count": 13,
   "id": "8a69ddee",
   "metadata": {},
   "outputs": [],
   "source": [
    "y_pred = model.predict(X2d_test)"
   ]
  },
  {
   "cell_type": "code",
   "execution_count": 14,
   "id": "8be0dae5",
   "metadata": {
    "scrolled": true
   },
   "outputs": [
    {
     "data": {
      "text/plain": [
       "array([0.71428571, 0.73417722, 0.53164557, 0.5       , 0.4516129 ,\n",
       "       0.11111111, 0.36363636, 0.71698113])"
      ]
     },
     "execution_count": 14,
     "metadata": {},
     "output_type": "execute_result"
    }
   ],
   "source": [
    "f1_score(y_test, y_pred, average=None)"
   ]
  },
  {
   "cell_type": "code",
   "execution_count": 15,
   "id": "2dad752e",
   "metadata": {},
   "outputs": [
    {
     "data": {
      "text/plain": [
       "0.5154312511430743"
      ]
     },
     "execution_count": 15,
     "metadata": {},
     "output_type": "execute_result"
    }
   ],
   "source": [
    "f1_score(y_test, y_pred, average=\"macro\")"
   ]
  },
  {
   "cell_type": "code",
   "execution_count": 16,
   "id": "9bbc676d",
   "metadata": {},
   "outputs": [],
   "source": [
    "from sklearn.metrics import classification_report"
   ]
  },
  {
   "cell_type": "code",
   "execution_count": 17,
   "id": "e8ef6c7f",
   "metadata": {},
   "outputs": [
    {
     "name": "stdout",
     "output_type": "stream",
     "text": [
      "              precision    recall  f1-score   support\n",
      "\n",
      "       angry       0.83      0.62      0.71        32\n",
      "        calm       0.62      0.91      0.73        32\n",
      "     disgust       0.45      0.66      0.53        32\n",
      "     fearful       0.58      0.44      0.50        32\n",
      "       happy       0.47      0.44      0.45        32\n",
      "     neutral       0.50      0.06      0.11        16\n",
      "         sad       0.31      0.44      0.36        32\n",
      "   surprised       0.90      0.59      0.72        32\n",
      "\n",
      "    accuracy                           0.55       240\n",
      "   macro avg       0.58      0.52      0.52       240\n",
      "weighted avg       0.59      0.55      0.54       240\n",
      "\n"
     ]
    }
   ],
   "source": [
    "print(classification_report(y_test, y_pred))"
   ]
  },
  {
   "cell_type": "code",
   "execution_count": 18,
   "id": "42553b81",
   "metadata": {},
   "outputs": [
    {
     "data": {
      "text/html": [
       "<div>\n",
       "<style scoped>\n",
       "    .dataframe tbody tr th:only-of-type {\n",
       "        vertical-align: middle;\n",
       "    }\n",
       "\n",
       "    .dataframe tbody tr th {\n",
       "        vertical-align: top;\n",
       "    }\n",
       "\n",
       "    .dataframe thead th {\n",
       "        text-align: right;\n",
       "    }\n",
       "</style>\n",
       "<table border=\"1\" class=\"dataframe\">\n",
       "  <thead>\n",
       "    <tr style=\"text-align: right;\">\n",
       "      <th></th>\n",
       "      <th>angry</th>\n",
       "      <th>calm</th>\n",
       "      <th>disgust</th>\n",
       "      <th>fearful</th>\n",
       "      <th>happy</th>\n",
       "      <th>neutral</th>\n",
       "      <th>sad</th>\n",
       "      <th>surprised</th>\n",
       "    </tr>\n",
       "  </thead>\n",
       "  <tbody>\n",
       "    <tr>\n",
       "      <th>angry</th>\n",
       "      <td>20</td>\n",
       "      <td>0</td>\n",
       "      <td>6</td>\n",
       "      <td>1</td>\n",
       "      <td>5</td>\n",
       "      <td>0</td>\n",
       "      <td>0</td>\n",
       "      <td>0</td>\n",
       "    </tr>\n",
       "    <tr>\n",
       "      <th>calm</th>\n",
       "      <td>0</td>\n",
       "      <td>29</td>\n",
       "      <td>0</td>\n",
       "      <td>0</td>\n",
       "      <td>0</td>\n",
       "      <td>0</td>\n",
       "      <td>3</td>\n",
       "      <td>0</td>\n",
       "    </tr>\n",
       "    <tr>\n",
       "      <th>disgust</th>\n",
       "      <td>0</td>\n",
       "      <td>4</td>\n",
       "      <td>21</td>\n",
       "      <td>1</td>\n",
       "      <td>3</td>\n",
       "      <td>1</td>\n",
       "      <td>2</td>\n",
       "      <td>0</td>\n",
       "    </tr>\n",
       "    <tr>\n",
       "      <th>fearful</th>\n",
       "      <td>3</td>\n",
       "      <td>0</td>\n",
       "      <td>2</td>\n",
       "      <td>14</td>\n",
       "      <td>4</td>\n",
       "      <td>0</td>\n",
       "      <td>7</td>\n",
       "      <td>2</td>\n",
       "    </tr>\n",
       "    <tr>\n",
       "      <th>happy</th>\n",
       "      <td>1</td>\n",
       "      <td>1</td>\n",
       "      <td>6</td>\n",
       "      <td>2</td>\n",
       "      <td>14</td>\n",
       "      <td>0</td>\n",
       "      <td>8</td>\n",
       "      <td>0</td>\n",
       "    </tr>\n",
       "    <tr>\n",
       "      <th>neutral</th>\n",
       "      <td>0</td>\n",
       "      <td>7</td>\n",
       "      <td>1</td>\n",
       "      <td>0</td>\n",
       "      <td>0</td>\n",
       "      <td>1</td>\n",
       "      <td>7</td>\n",
       "      <td>0</td>\n",
       "    </tr>\n",
       "    <tr>\n",
       "      <th>sad</th>\n",
       "      <td>0</td>\n",
       "      <td>6</td>\n",
       "      <td>8</td>\n",
       "      <td>4</td>\n",
       "      <td>0</td>\n",
       "      <td>0</td>\n",
       "      <td>14</td>\n",
       "      <td>0</td>\n",
       "    </tr>\n",
       "    <tr>\n",
       "      <th>surprised</th>\n",
       "      <td>0</td>\n",
       "      <td>0</td>\n",
       "      <td>3</td>\n",
       "      <td>2</td>\n",
       "      <td>4</td>\n",
       "      <td>0</td>\n",
       "      <td>4</td>\n",
       "      <td>19</td>\n",
       "    </tr>\n",
       "  </tbody>\n",
       "</table>\n",
       "</div>"
      ],
      "text/plain": [
       "           angry  calm  disgust  fearful  happy  neutral  sad  surprised\n",
       "angry         20     0        6        1      5        0    0          0\n",
       "calm           0    29        0        0      0        0    3          0\n",
       "disgust        0     4       21        1      3        1    2          0\n",
       "fearful        3     0        2       14      4        0    7          2\n",
       "happy          1     1        6        2     14        0    8          0\n",
       "neutral        0     7        1        0      0        1    7          0\n",
       "sad            0     6        8        4      0        0   14          0\n",
       "surprised      0     0        3        2      4        0    4         19"
      ]
     },
     "execution_count": 18,
     "metadata": {},
     "output_type": "execute_result"
    }
   ],
   "source": [
    "from sklearn.metrics import confusion_matrix\n",
    "cm = confusion_matrix(y_test, y_pred)\n",
    "pd.DataFrame(cm, index=model.classes_, columns=model.classes_)"
   ]
  },
  {
   "cell_type": "code",
   "execution_count": null,
   "id": "7deaaf1b",
   "metadata": {},
   "outputs": [],
   "source": []
  }
 ],
 "metadata": {
  "kernelspec": {
   "display_name": "Python 3 (ipykernel)",
   "language": "python",
   "name": "python3"
  },
  "language_info": {
   "codemirror_mode": {
    "name": "ipython",
    "version": 3
   },
   "file_extension": ".py",
   "mimetype": "text/x-python",
   "name": "python",
   "nbconvert_exporter": "python",
   "pygments_lexer": "ipython3",
   "version": "3.9.16"
  }
 },
 "nbformat": 4,
 "nbformat_minor": 5
}
